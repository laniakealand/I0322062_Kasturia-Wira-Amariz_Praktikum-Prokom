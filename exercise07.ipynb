{
 "cells": [
  {
   "cell_type": "code",
   "execution_count": 3,
   "metadata": {},
   "outputs": [
    {
     "name": "stdout",
     "output_type": "stream",
     "text": [
      "[[1, 2], [1, 2]]\n"
     ]
    }
   ],
   "source": [
    "#Buatlah sebuah fungsi untuk membuat matrix berdasarkan input dari user\n",
    "\n",
    "def create_matrix(baris,kolom):\n",
    "    matrix = []\n",
    "\n",
    "    #Tulis kode kamu disini\n",
    "    for i in range (baris) :\n",
    "        row = []\n",
    "        for j in range (kolom) :\n",
    "            elemen = int(input(f\"masukkan elemen matriks pada baris {i+1}, kolom {j+1}:\"))\n",
    "            row.append(elemen)\n",
    "        matrix.append(row)\n",
    "        \n",
    "    return matrix\n",
    "\n",
    "\n",
    "baris = int(input('Masukkan Jumlah Baris:\\t'))\n",
    "kolom = int(input('Masukkan Jumlah Kolom:\\t'))\n",
    "\n",
    "matriks = create_matrix(baris,kolom)\n",
    "print(matriks)\n"
   ]
  },
  {
   "cell_type": "code",
   "execution_count": 1,
   "metadata": {},
   "outputs": [
    {
     "data": {
      "text/plain": [
       "[[-5, -2], [-3, -3]]"
      ]
     },
     "execution_count": 1,
     "metadata": {},
     "output_type": "execute_result"
    }
   ],
   "source": [
    "#Buatlah fungsi untuk melakukan pengurangan antar dua matrix berdasarkan input user\n",
    "\n",
    "def kurang_matrix(matrixA, matrixB):\n",
    "    kurang = [[0,0],\n",
    "              [0,0]]\n",
    "\n",
    "\n",
    "    #Tulis kode kamu disini\n",
    "    for i in range(len(matrixA)):\n",
    "        for j in range(len(matrixB[i])):\n",
    "            kurang[i][j]=matrixA[i][j] - matrixB[i][j]\n",
    "\n",
    "\n",
    "    return kurang\n",
    "\n",
    "\n",
    "matrixA = [[5,9],\n",
    "           [2,6]]\n",
    "matrixB = [[10,11],\n",
    "           [5,9]]\n",
    "\n",
    "\n",
    "kurang_matrix(matrixA,matrixB)\n"
   ]
  },
  {
   "cell_type": "code",
   "execution_count": 2,
   "metadata": {},
   "outputs": [
    {
     "data": {
      "text/plain": [
       "[[3.5, 5.0], [4.0, 5.0]]"
      ]
     },
     "execution_count": 2,
     "metadata": {},
     "output_type": "execute_result"
    }
   ],
   "source": [
    "#Buatlah Fungsi untuk melakukan pembagian matrix dengan skalar berdasarkan input user\n",
    "\n",
    "def bagi_matrix(matrix1, skalar):\n",
    "    hasil = [[0,0],\n",
    "             [0,0]]\n",
    "\n",
    "    #Tulis kode kamu disini\n",
    "    for i in range(len(matrix1)):\n",
    "        for j in range(len(matrix1[i])):\n",
    "            hasil[i][j]=matrix1[i][j]/skalar\n",
    "    return hasil\n",
    "\n",
    "matrix1 = [[7,10],\n",
    "           [8,10]]\n",
    "skalar = int(input('Matrix dibagi berapa?\\t'))\n",
    "\n",
    "\n",
    "bagi_matrix(matrix1, skalar)"
   ]
  }
 ],
 "metadata": {
  "kernelspec": {
   "display_name": "Python 3",
   "language": "python",
   "name": "python3"
  },
  "language_info": {
   "codemirror_mode": {
    "name": "ipython",
    "version": 3
   },
   "file_extension": ".py",
   "mimetype": "text/x-python",
   "name": "python",
   "nbconvert_exporter": "python",
   "pygments_lexer": "ipython3",
   "version": "3.11.2"
  },
  "orig_nbformat": 4
 },
 "nbformat": 4,
 "nbformat_minor": 2
}
