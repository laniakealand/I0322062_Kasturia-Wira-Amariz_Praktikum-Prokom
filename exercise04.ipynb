{
 "cells": [
  {
   "cell_type": "code",
   "execution_count": 1,
   "metadata": {},
   "outputs": [
    {
     "name": "stdout",
     "output_type": "stream",
     "text": [
      "kasturia wira amariz\n",
      "I0322062\n",
      "B\n"
     ]
    }
   ],
   "source": [
    "print(input(\"Nama: \"))\n",
    "print(input(\"NIM: \"))\n",
    "print(input(\"Kelas: \"))"
   ]
  },
  {
   "attachments": {},
   "cell_type": "markdown",
   "metadata": {},
   "source": [
    "## 1."
   ]
  },
  {
   "attachments": {},
   "cell_type": "markdown",
   "metadata": {},
   "source": [
    "Buatlah program yang meminta input string dari user, kemudian program akan menentukan string tersebut adalah palyndrome atau bukan.<br>\n",
    "* Palyndrome adalah kata atau kalimat yang jika dibalik hasilnya sama\n",
    "* kasur rusak adalah palyndrome\n",
    "\n",
    "> *note: Kerjakan soal ini dengan percabangan*"
   ]
  },
  {
   "cell_type": "code",
   "execution_count": 7,
   "metadata": {},
   "outputs": [
    {
     "name": "stdout",
     "output_type": "stream",
     "text": [
      "kata tersebut adalah palindrome\n"
     ]
    }
   ],
   "source": [
    "# Kerjakan soal no 1 di sini\n",
    "\n",
    "masukkan_kata = str(input(\"masukkan kata: \"))\n",
    "\n",
    "reverse_string = masukkan_kata[:: -1]\n",
    "\n",
    "\n",
    "if masukkan_kata == reverse_string :\n",
    "    print(\"kata tersebut adalah palindrome\")\n",
    "else:\n",
    "    print(\"kata tersebut bukan palindrome\")"
   ]
  },
  {
   "attachments": {},
   "cell_type": "markdown",
   "metadata": {},
   "source": [
    "## 2."
   ]
  },
  {
   "attachments": {},
   "cell_type": "markdown",
   "metadata": {},
   "source": [
    "Buatlah program yang meminta input berupa tahun dan bulan kemudian tampilkan jumlah hari pada bulan tersebut (perbedaan pada tahun kabisat).<br>\n",
    "\n",
    "> *note: Kerjakan soal ini dengan percabangan*"
   ]
  },
  {
   "cell_type": "code",
   "execution_count": 6,
   "metadata": {},
   "outputs": [
    {
     "name": "stdout",
     "output_type": "stream",
     "text": [
      "jumlah hari pada bulan tersebut adalah 31\n"
     ]
    }
   ],
   "source": [
    "tahun = int(input(\"masukkan tahun : \"))\n",
    "bulan = str(input(\"masukkan bulan : \"))\n",
    "\n",
    "if bulan == \"februari\" :\n",
    "    if (tahun % 4 == 0 and tahun % 100 != 0 )or tahun % 400 == 0 :\n",
    "        jumlah_hari = 29\n",
    "    else :\n",
    "        jumlah_hari = 28\n",
    "elif bulan == \"april\" or bulan == \"juni\" or bulan == \"september\" or bulan == \"november\" :\n",
    "    jumlah_hari = 30\n",
    "else :\n",
    "    jumlah_hari = 31\n",
    "\n",
    "print(\"jumlah hari pada bulan tersebut adalah\", jumlah_hari)"
   ]
  }
 ],
 "metadata": {
  "kernelspec": {
   "display_name": "Python 3",
   "language": "python",
   "name": "python3"
  },
  "language_info": {
   "codemirror_mode": {
    "name": "ipython",
    "version": 3
   },
   "file_extension": ".py",
   "mimetype": "text/x-python",
   "name": "python",
   "nbconvert_exporter": "python",
   "pygments_lexer": "ipython3",
   "version": "3.11.2"
  },
  "orig_nbformat": 4
 },
 "nbformat": 4,
 "nbformat_minor": 2
}
