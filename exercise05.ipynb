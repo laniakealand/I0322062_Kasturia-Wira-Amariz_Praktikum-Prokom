{
 "cells": [
  {
   "attachments": {},
   "cell_type": "markdown",
   "metadata": {},
   "source": [
    "1. Diberikan List sebagai berikut!"
   ]
  },
  {
   "cell_type": "code",
   "execution_count": null,
   "metadata": {},
   "outputs": [],
   "source": [
    "list1 = ['a','b','c']\n",
    "list1 = ['c','d','e']"
   ]
  },
  {
   "attachments": {},
   "cell_type": "markdown",
   "metadata": {},
   "source": [
    "Buatlah program pengulangan untuk menampilkan elemen dalam kedua list tersebut yang sama! (Contoh Output \"Nilai yang sama adalah 'C'\")"
   ]
  },
  {
   "cell_type": "code",
   "execution_count": 1,
   "metadata": {},
   "outputs": [
    {
     "name": "stdout",
     "output_type": "stream",
     "text": [
      "nilai yang sama adalah c\n"
     ]
    }
   ],
   "source": [
    "# Kerjakan nomor 1 di sini\n",
    "list1 = ['a','b','c']\n",
    "list2 = ['c','d','e']\n",
    "\n",
    "for i in list1 :\n",
    "    if i in list2 :\n",
    "        print(\"nilai yang sama adalah\", i)\n",
    "\n",
    "\n"
   ]
  },
  {
   "attachments": {},
   "cell_type": "markdown",
   "metadata": {},
   "source": [
    "2. Buatlah sebuah list yang berisi daftar mata kuliah di Teknik Industri UNS (minimal 10 matkul). Kemudian buat program pencarian menggunakan pengulangan. Apabila nama matkul yang user inputkan sudah sesuai dengan isi list maka program akan berhenti dan menampilkan output \"Mata Kuliah (matkul yang diinput user) adalah mata kuliah di Teknik Industri UNS\"."
   ]
  },
  {
   "cell_type": "code",
   "execution_count": 5,
   "metadata": {},
   "outputs": [
    {
     "name": "stdout",
     "output_type": "stream",
     "text": [
      "mata kuliah gamtek tidak ditemukan di Teknik Industri\n"
     ]
    }
   ],
   "source": [
    "# Kerjakan nomor 2 di sini\n",
    "list_mata_kuliah = [ \"kalkulus\", \"fisika dasar 1\", \"fisika dasar 2\", \"kimia dasar\", \"material teknik\", \"mekanika teknik\", \"psikologi industri organisasi\", \"ppkn\", \"agama islam\", \"prokom\"]\n",
    "\n",
    "mata_kuliah = input(\"masukkan nama mata kuliah: \")\n",
    "\n",
    "for i in list_mata_kuliah :\n",
    "    if mata_kuliah.lower() == i.lower() :\n",
    "        print(\"mata kuliah\", mata_kuliah, \"adalah mata kuliah di Teknik Industri\")\n",
    "        break\n",
    "else :\n",
    "    print(\"mata kuliah\", mata_kuliah, \"tidak ditemukan di Teknik Industri\")\n",
    "\n"
   ]
  },
  {
   "attachments": {},
   "cell_type": "markdown",
   "metadata": {},
   "source": [
    "3. Buatlah program untuk menampilkan faktorial dari suatu bilangan dimana bilangan tersebut didapat melalui input user!"
   ]
  },
  {
   "cell_type": "code",
   "execution_count": 8,
   "metadata": {},
   "outputs": [
    {
     "name": "stdout",
     "output_type": "stream",
     "text": [
      "faktorial dari 6 adalah 720\n"
     ]
    }
   ],
   "source": [
    "# Kerjakan nomor 3 di sini\n",
    "angka = int(input(\"masukkan angka: \"))\n",
    "\n",
    "faktorial = 1\n",
    "for i in range(1, angka + 1):\n",
    "    faktorial *= i\n",
    "\n",
    "print(\"faktorial dari\", angka, \"adalah\", faktorial)\n"
   ]
  }
 ],
 "metadata": {
  "kernelspec": {
   "display_name": "Python 3",
   "language": "python",
   "name": "python3"
  },
  "language_info": {
   "codemirror_mode": {
    "name": "ipython",
    "version": 3
   },
   "file_extension": ".py",
   "mimetype": "text/x-python",
   "name": "python",
   "nbconvert_exporter": "python",
   "pygments_lexer": "ipython3",
   "version": "3.11.2"
  },
  "orig_nbformat": 4
 },
 "nbformat": 4,
 "nbformat_minor": 2
}
