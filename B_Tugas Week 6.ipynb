{
 "cells": [
  {
   "attachments": {},
   "cell_type": "markdown",
   "metadata": {},
   "source": [
    "1. Tulis program dengan fungsi untuk menentukan yang paling besar dari empat angka yang diberikan!\n",
    "     ###### Note: Angka ditentukan sendiri oleh praktikan"
   ]
  },
  {
   "cell_type": "code",
   "execution_count": 1,
   "metadata": {},
   "outputs": [
    {
     "name": "stdout",
     "output_type": "stream",
     "text": [
      "bilangan tertinggi adalah 4\n",
      "None\n"
     ]
    }
   ],
   "source": [
    "# Kerjakan Nomor 1 di bawah ini\n",
    "def cari_angka_tertinggi (a, b, c, d) :\n",
    "    if a > b and a > c and a > d :\n",
    "        print (\"bilangan tertinggi adalah \", a)\n",
    "    elif b > a and b > c and b > d :\n",
    "        print (\"bilangan tertinggi adalah\", b)\n",
    "    elif c > a and c > b and c > d :\n",
    "        print(\"bilangan tertinggi adalah\", c)\n",
    "    elif d > a and d > b and d > c :\n",
    "        print(\"bilangan tertinggi adalah\", d)\n",
    "    else :\n",
    "        print(\"tidak ada bilangan tertinggi\")\n",
    "\n",
    "print(cari_angka_tertinggi(1,2,3,4))"
   ]
  },
  {
   "attachments": {},
   "cell_type": "markdown",
   "metadata": {},
   "source": [
    "2. Tulis fungsi Python yang mengambil list awal dan menampilkan list baru dengan angka unik (tidak ada angka yang sama) dari list yang pertama."
   ]
  },
  {
   "cell_type": "code",
   "execution_count": null,
   "metadata": {},
   "outputs": [],
   "source": [
    "list_awal = [9,9,9,9,9,9,9,10,11,13,14,15,17,19]"
   ]
  },
  {
   "cell_type": "code",
   "execution_count": 3,
   "metadata": {},
   "outputs": [
    {
     "name": "stdout",
     "output_type": "stream",
     "text": [
      "[9, 10, 11, 13, 14, 15, 17, 19]\n"
     ]
    }
   ],
   "source": [
    "# Kerjakan Nomor 2 di bawah ini\n",
    "def angka_unik(masukkan_list):\n",
    "    list_unik = []\n",
    "    \n",
    "    for i in masukkan_list:\n",
    "        if i not in list_unik:\n",
    "            list_unik.append(i)\n",
    "    \n",
    "    return list_unik\n",
    "\n",
    "# contoh penggunaan\n",
    "masukkan_list = [9,9,9,9,9,9,9,10,11,13,14,15,17,19]\n",
    "output_list = angka_unik(masukkan_list)\n",
    "print(output_list) \n"
   ]
  },
  {
   "attachments": {},
   "cell_type": "markdown",
   "metadata": {},
   "source": [
    "3. Hitunglah 2 angka yang dapat diinputkan dengan angka kedua menjadi pangkat bagi angka pertama, dan angka kedua menjadi pembagi angka pertama (tampilkan juga sisa hasil pembagiannya) \n",
    "\n",
    "clue : gunakan fungsi yang ada di built-in tanpa menggunakan sintaks operator seperti * ataupun /."
   ]
  },
  {
   "cell_type": "code",
   "execution_count": 4,
   "metadata": {},
   "outputs": [
    {
     "name": "stdout",
     "output_type": "stream",
     "text": [
      "6 pangkat 100 = 653318623500070906096690267158057820537143710472954871543071966369497141477376\n",
      "6 dibagi 100 = 0 dengan sisa 6\n"
     ]
    }
   ],
   "source": [
    "# Kerjakan Nomor 3 di bawah ini\n",
    "def menghitung_angka(angka1, angka2):\n",
    "    hasil_pangkat = pow(angka1, angka2)\n",
    "    hasil_bagi = divmod(angka1, angka2)\n",
    "    \n",
    "    print(f\"{angka1} pangkat {angka2} = {hasil_pangkat}\")\n",
    "    print(f\"{angka1} dibagi {angka2} = {hasil_bagi[0]} dengan sisa {hasil_bagi[1]}\")\n",
    "menghitung_angka(6, 100)"
   ]
  }
 ],
 "metadata": {
  "kernelspec": {
   "display_name": "Python 3",
   "language": "python",
   "name": "python3"
  },
  "language_info": {
   "codemirror_mode": {
    "name": "ipython",
    "version": 3
   },
   "file_extension": ".py",
   "mimetype": "text/x-python",
   "name": "python",
   "nbconvert_exporter": "python",
   "pygments_lexer": "ipython3",
   "version": "3.11.2"
  },
  "orig_nbformat": 4,
  "vscode": {
   "interpreter": {
    "hash": "5addf786bcd861d1ce5006f23111f8cbb206731e5b61b0a5632ba9e0252558a8"
   }
  }
 },
 "nbformat": 4,
 "nbformat_minor": 2
}
