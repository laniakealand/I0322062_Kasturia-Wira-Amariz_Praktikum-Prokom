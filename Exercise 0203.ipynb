{
 "cells": [
  {
   "cell_type": "code",
   "execution_count": 1,
   "metadata": {},
   "outputs": [
    {
     "name": "stdout",
     "output_type": "stream",
     "text": [
      "kasturia wira amariz\n",
      "I0322062\n",
      "B\n"
     ]
    }
   ],
   "source": [
    "print(input(\"Nama: \"))\n",
    "print(input(\"NIM: \"))\n",
    "print(input(\"Kelas: \"))"
   ]
  },
  {
   "attachments": {},
   "cell_type": "markdown",
   "metadata": {},
   "source": [
    "## 1."
   ]
  },
  {
   "attachments": {},
   "cell_type": "markdown",
   "metadata": {},
   "source": [
    "* **A** Hitunglah luas Prisma Segitiga dengan ketentuan sebagai berikut:\n",
    "    * Alas dan tutup prisma merupakan segitiga\n",
    "    * Terdapat 3 persegi panjang yang menyinggung alas dan tutup prisma\n",
    "    * Sisi persegi panjang yang menyinggung segitiga adalah sisi lebar\n",
    "```python\n",
    "    dictionary_figure = {\"Persegi\":{\"Sisi\":22},\n",
    "                        \"Persegi Panjang\":{\"Panjang\":10,\"Lebar\":5},\n",
    "                        \"Segitiga Sama Sisi\":{\"Sisi\":6,\"Tinggi\":3**(1/2) * 3},\n",
    "                        \"Lingkaran\":{\"Diameter\":7}}\n",
    "```\n",
    "* **B** Hitunglah luas Tabung dengan ketentuan sebagai berikut:\n",
    "    * Alas dan tutup tabung merupakan lingkaran\n",
    "    * Terdapat 1 persegi yang menyinggung alas dan tutup tabung\n",
    "    * Persegi yang ada mengelilingi lingkaran hingga sisi dari persegi saling bertemu\n",
    "\n",
    "> **note:** *Pada soal ini kalian hanya boleh menggunakan key-value pair dan index pada list. Tidak diperbolehkan menulis secara langsung dimensi dari figure*"
   ]
  },
  {
   "cell_type": "code",
   "execution_count": 3,
   "metadata": {},
   "outputs": [
    {
     "name": "stdout",
     "output_type": "stream",
     "text": [
      "luas prisma segitiga adalah 181.1769145362398\n"
     ]
    }
   ],
   "source": [
    "dictionary_figure = {\"persegi\":{\"sisi\":22},\n",
    "                        \"persegi panjang\":{\"panjang\":10,\"lebar\":5},\n",
    "                        \"segitiga sama sisi\":{\"sisi\":6,\"tinggi\":3**(1/2) * 3},\n",
    "                        \"lingkaran\":{\"diameter\":7}}\n",
    "\n",
    "# menghitung luas alas dan tutup prisma\n",
    "luas_alas = dictionary_figure[\"segitiga sama sisi\"][\"sisi\"] * dictionary_figure[\"segitiga sama sisi\"][\"tinggi\"] * 0.5\n",
    "luas_tutup = luas_alas\n",
    "\n",
    "# menghitung luas persegi panjang\n",
    "luas_persegi_panjang = 3 * dictionary_figure[\"persegi panjang\"][\"panjang\"] * dictionary_figure[\"persegi panjang\"][\"lebar\"]\n",
    "\n",
    "# menghitung luas total prisma segitiga\n",
    "luas_total_prisma_segitiga = 2 * luas_alas + luas_persegi_panjang\n",
    "\n",
    "print(\"luas prisma segitiga adalah\", luas_total_prisma_segitiga)"
   ]
  },
  {
   "cell_type": "code",
   "execution_count": 2,
   "metadata": {},
   "outputs": [
    {
     "name": "stdout",
     "output_type": "stream",
     "text": [
      "luas tabung adalah 560.9300000000001\n"
     ]
    }
   ],
   "source": [
    "dictionary_figure = {\"persegi\":{\"sisi\":22},\n",
    "                        \"persegi panjang\":{\"panjang\":10,\"lebar\":5},\n",
    "                        \"segitiga sama sisi\":{\"sisi\":6,\"tinggi\":3**(1/2) * 3},\n",
    "                        \"lingkaran\":{\"diameter\":7}}\n",
    "\n",
    "# menghitung luas alas dan luas tutup tabung\n",
    "luas_alas = dictionary_figure[\"lingkaran\"][\"diameter\"] ** 2 * 0.25 * 3.14\n",
    "\n",
    "# menghitung luas selimut tabung\n",
    "luas_selimut_tabung = dictionary_figure[\"persegi\"][\"sisi\"] **2\n",
    "\n",
    "# menghitung total luas tabung\n",
    "luas_tabung = 2 * luas_alas + luas_selimut_tabung\n",
    "\n",
    "print(\"luas tabung adalah\", luas_tabung)\n"
   ]
  },
  {
   "attachments": {},
   "cell_type": "markdown",
   "metadata": {},
   "source": [
    "## 2."
   ]
  },
  {
   "attachments": {},
   "cell_type": "markdown",
   "metadata": {},
   "source": [
    "Diberikan List sebagai berikut\n",
    "```Python\n",
    "    data = [8, 8, 4, 6, 8, 9, 6, 5, 4, 7]\n",
    "```\n",
    "* Tambahkan 3 angka baru ke dalam list\n",
    "* Tampilkan output list dengan berurutan dari yang terkecil hingga yang terbesar\n",
    "* Tentukan mean, median, dan modus pada list baru"
   ]
  },
  {
   "cell_type": "code",
   "execution_count": 5,
   "metadata": {},
   "outputs": [
    {
     "name": "stdout",
     "output_type": "stream",
     "text": [
      "[8, 8, 4, 6, 8, 9, 6, 5, 4, 7, 5, 7, 9]\n",
      "[4, 4, 5, 5, 6, 6, 7, 7, 8, 8, 8, 9, 9]\n",
      "mean: 6.615384615384615\n",
      "mean: 6.615384615384615\n",
      "median: 7\n",
      "modus: 8\n"
     ]
    }
   ],
   "source": [
    "# data yang dipunya\n",
    "data = [8, 8, 4, 6, 8, 9, 6, 5, 4, 7]\n",
    "\n",
    "# menambahkan data \n",
    "data_tambahan = [5, 7, 9]\n",
    "data.extend(data_tambahan)\n",
    "print(data)\n",
    "\n",
    "# mengurutkan data\n",
    "data.sort()\n",
    "print(data)\n",
    "\n",
    "# mencari median, mean, dan modus\n",
    "#mencari mean 1\n",
    "jumlah_data = sum(data)\n",
    "banyak_data = len(data)\n",
    "\n",
    "print(\"mean:\", jumlah_data/banyak_data)\n",
    "\n",
    "# mencari mean 2 \n",
    "import statistics\n",
    "mean = statistics.mean(data) \n",
    "print(\"mean:\", mean)\n",
    "\n",
    "# mencari median\n",
    "median = statistics.median(data)\n",
    "print(\"median:\", median)\n",
    "\n",
    "# mencari modus\n",
    "modus = statistics.mode(data)\n",
    "print(\"modus:\", modus)\n"
   ]
  },
  {
   "attachments": {},
   "cell_type": "markdown",
   "metadata": {},
   "source": [
    "## 3. "
   ]
  },
  {
   "attachments": {},
   "cell_type": "markdown",
   "metadata": {},
   "source": [
    "Dalam pembuatan SIM ada beberapa syarat yang harus dipenuhi bagi para pembuat SIM yaitu:\n",
    "1. Pembuat SIM harus memiliki usia setidaknya 17 tahun\n",
    "2. Pembuat SIM lulus dalam tes kesehatan\n",
    "3. Pembuat SIM lulus dalam uji psikotes\n",
    "4. Pembuat SIM telah mengikuti ujian tertulis dengan nilai setidaknya 70\n",
    "5. Pembuat SIM lulus dalam simulasi berkendara\n",
    "6. Apabila pembuat SIM memiliki surat rekomendasi dari kursus berkendara maka pembuat SIM akan mendapatkan SIM (mengabaikan poin 1-5 apabila poin ke-6 terpenuhi)\n",
    "\n",
    "Buatlah input yang membuat setiap poin menjadi variabel. Output yang dihasilkan merupakan \"True\" apabila pembuat berhak mendapatkan SIM dan \"False\" apabila pembuat tidak berhak mendapatkan SIM.\n",
    "\n",
    "> **note:** *Tidak perlu menggunakan loops dalam membuat programnya*"
   ]
  },
  {
   "cell_type": "code",
   "execution_count": 4,
   "metadata": {},
   "outputs": [
    {
     "name": "stdout",
     "output_type": "stream",
     "text": [
      " apakah pembuat SIM berhak mempunyai SIM? True\n"
     ]
    }
   ],
   "source": [
    "usia = int(input(\" masukkan umur pembuat sim:\"))\n",
    "tes_kesehatan = input(\"apakah lulus tes kesehatan? (ya/tidak)\")\n",
    "ujian_psikotes = input(\"apakah lulus ujian psikotes? (ya/tidak)\")\n",
    "ujian_tertulis = float(input(\"nilai ujian tertulis\"))\n",
    "simulasi_berkendara = input(\"apakah lulus simulasi berkendara? (ya/tidak)\")\n",
    "surat_rekomendasi = input(\" apakah memiliki surat rekomendasi? (ya/tidak)\")\n",
    "\n",
    "hasil = usia >= 17 and tes_kesehatan == \"ya\" and ujian_psikotes == \"ya\" and ujian_tertulis >= 70 and simulasi_berkendara == \"ya\" or surat_rekomendasi == \"ya\"\n",
    "print(\" apakah pembuat SIM berhak mempunyai SIM?\", hasil)"
   ]
  }
 ],
 "metadata": {
  "kernelspec": {
   "display_name": "Python 3",
   "language": "python",
   "name": "python3"
  },
  "language_info": {
   "codemirror_mode": {
    "name": "ipython",
    "version": 3
   },
   "file_extension": ".py",
   "mimetype": "text/x-python",
   "name": "python",
   "nbconvert_exporter": "python",
   "pygments_lexer": "ipython3",
   "version": "3.11.2"
  },
  "orig_nbformat": 4,
  "vscode": {
   "interpreter": {
    "hash": "5addf786bcd861d1ce5006f23111f8cbb206731e5b61b0a5632ba9e0252558a8"
   }
  }
 },
 "nbformat": 4,
 "nbformat_minor": 2
}
